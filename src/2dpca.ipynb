{
 "cells": [
  {
   "cell_type": "code",
   "execution_count": null,
   "id": "688809de",
   "metadata": {},
   "outputs": [],
   "source": [
    "import numpy as np\n",
    "import timeit\n",
    "from ipynb.fs.full.utils import get_faces, get_person_num, show_sample_faces, split_train_test, get_stats"
   ]
  },
  {
   "cell_type": "code",
   "execution_count": null,
   "id": "238c8bc1",
   "metadata": {},
   "outputs": [],
   "source": [
    "faces = get_faces(zipfile_path=\"./Grp13Dataset.zip\")\n",
    "# show_sample_faces(faces=faces)"
   ]
  },
  {
   "cell_type": "code",
   "execution_count": null,
   "id": "839ac6e2",
   "metadata": {},
   "outputs": [],
   "source": [
    "faceshape = list(faces.values())[0].shape\n",
    "print(\"Face image shape:\", faceshape)\n",
    "img_height, img_width = faceshape"
   ]
  },
  {
   "cell_type": "code",
   "execution_count": null,
   "id": "4d4f5e6e",
   "metadata": {},
   "outputs": [],
   "source": [
    "classes = set(filename.split(\"/\")[0] for filename in faces.keys())\n",
    "print(\"Number of classes:\", len(classes))\n",
    "print(\"Number of images:\", len(faces))"
   ]
  },
  {
   "cell_type": "code",
   "execution_count": null,
   "id": "340f18c3",
   "metadata": {},
   "outputs": [],
   "source": [
    "training_set, testing_set = split_train_test(zipfilepath=\"./Grp13Dataset.zip\")\n"
   ]
  },
  {
   "cell_type": "code",
   "execution_count": null,
   "id": "90f7f551",
   "metadata": {},
   "outputs": [],
   "source": [
    "\n",
    "start = timeit.default_timer()"
   ]
  },
  {
   "cell_type": "code",
   "execution_count": null,
   "id": "06830cb9",
   "metadata": {},
   "outputs": [],
   "source": [
    "def get_matrix(training_list, img_height, img_width):\n",
    "\n",
    "    img_mat = np.zeros(\n",
    "        (len(training_list), img_height, img_width),\n",
    "        dtype=np.uint8)\n",
    "\n",
    "    i = 0\n",
    "    for img in training_list:\n",
    "        mat = np.asmatrix(training_list[img])\n",
    "        img_mat[i, :, :] = mat\n",
    "        i += 1\n",
    "    print(\"Matrix Size:\", img_mat.shape)\n",
    "    return img_mat"
   ]
  },
  {
   "cell_type": "code",
   "execution_count": null,
   "id": "21764f24",
   "metadata": {},
   "outputs": [],
   "source": [
    "# def show_eigen_face(mean_subtracted, eig_no, new_bases):\n",
    "#     ev = new_bases[:, eig_no:eig_no + 1]\n",
    "#     print(new_bases.shape)\n",
    "#     print((mean_subtracted[0]@new_bases).shape)\n",
    "#     print(ev.shape)\n",
    "#     cv2.imshow(\"Eigen Face \" + str(eig_no),  cv2.resize(np.array((80,50), dtype = np.uint8),(200, 200)))\n",
    "#     cv2.waitKey()\n"
   ]
  },
  {
   "cell_type": "code",
   "execution_count": null,
   "id": "739b1d6b",
   "metadata": {},
   "outputs": [],
   "source": [
    "facematrix = get_matrix(training_set, img_height, img_width)\n",
    "no_of_images = facematrix.shape[0]\n"
   ]
  },
  {
   "cell_type": "code",
   "execution_count": null,
   "id": "5919f0d7",
   "metadata": {},
   "outputs": [],
   "source": [
    "# eqn 5\n",
    "mean_face = np.mean(facematrix, 0)\n"
   ]
  },
  {
   "cell_type": "code",
   "execution_count": null,
   "id": "016d546f",
   "metadata": {},
   "outputs": [],
   "source": [
    "# eqn 6\n",
    "mean_subtracted = facematrix - mean_face"
   ]
  },
  {
   "cell_type": "code",
   "execution_count": null,
   "id": "46a86bc3",
   "metadata": {},
   "outputs": [],
   "source": [
    "mat_width = facematrix.shape[2]\n",
    "g_t = np.zeros((mat_width, mat_width))  # mxm"
   ]
  },
  {
   "cell_type": "code",
   "execution_count": null,
   "id": "2e6203ae",
   "metadata": {},
   "outputs": [],
   "source": [
    "for i in range(no_of_images):\n",
    "\n",
    "    # multiplying net subtracted image with its transpose and adding in gt\n",
    "    temp = np.dot(mean_subtracted[i].T, mean_subtracted[i])\n",
    "    g_t += temp\n",
    "\n",
    "# dividing by total number of images\n",
    "g_t /= no_of_images\n",
    "# gt is the cov matrix - eq 7"
   ]
  },
  {
   "cell_type": "code",
   "execution_count": null,
   "id": "af219aef",
   "metadata": {},
   "outputs": [],
   "source": [
    "# finding eigen values and eigen vectors\n",
    "eig_val, eig_vec = np.linalg.eig(g_t)"
   ]
  },
  {
   "cell_type": "code",
   "execution_count": null,
   "id": "9c17d9de",
   "metadata": {},
   "outputs": [],
   "source": [
    "print(\"\\nEnter the components: \",end=\"\")\n",
    "n =int(input())\n",
    "eigfaces = eig_vec[:, 0:n]"
   ]
  },
  {
   "cell_type": "code",
   "execution_count": null,
   "id": "3fdb29f1",
   "metadata": {},
   "outputs": [],
   "source": [
    "# finding new coordinates using dot product new bases\n",
    "\n",
    "weight_matrix = np.dot(facematrix, eigfaces)"
   ]
  },
  {
   "cell_type": "code",
   "execution_count": null,
   "id": "ba3b9753",
   "metadata": {},
   "outputs": [],
   "source": [
    "def get_best_match(img):\n",
    "    img_mat = testing_set[img]\n",
    "    distances = []\n",
    "    for i in range(no_of_images):\n",
    "        temp_imgs = weight_matrix[i]\n",
    "        dist = np.linalg.norm(img_mat@eigfaces - temp_imgs)\n",
    "        distances += [dist]\n",
    "\n",
    "    min = np.argmin(distances)\n",
    "    return(min//8 + 1)"
   ]
  },
  {
   "cell_type": "code",
   "execution_count": null,
   "id": "752ac644",
   "metadata": {},
   "outputs": [],
   "source": [
    "stop = timeit.default_timer()"
   ]
  },
  {
   "cell_type": "code",
   "execution_count": null,
   "id": "e1f20eb1",
   "metadata": {},
   "outputs": [],
   "source": [
    "correct_pred = 0\n",
    "wrong_pred = 0\n",
    "for img in testing_set:\n",
    "    person_num, img_num = get_person_num(filename=img)\n",
    "\n",
    "    best_match = get_best_match(img)\n",
    "    if person_num == best_match:\n",
    "        correct_pred += 1\n",
    "    else:\n",
    "        wrong_pred += 1\n",
    "total_pred = correct_pred+wrong_pred"
   ]
  },
  {
   "cell_type": "code",
   "execution_count": null,
   "id": "fc292278",
   "metadata": {},
   "outputs": [],
   "source": [
    "Accuracy = get_stats(correct_pred,wrong_pred,total_pred)\n",
    "print(f\"Correct prediction: \",correct_pred,\"/\",total_pred)\n",
    "print(f\"Wrong prediction: \",wrong_pred,\"/\",total_pred)\n",
    "\n",
    "print(f\"Accuracy: \",Accuracy,\"%\")\n",
    "print(f\"Time Taken: \",round(stop-start,3),\"s\")"
   ]
  },
  {
   "cell_type": "code",
   "execution_count": null,
   "id": "b1b2a99e",
   "metadata": {},
   "outputs": [],
   "source": []
  }
 ],
 "metadata": {
  "kernelspec": {
   "display_name": "Python 3 (ipykernel)",
   "language": "python",
   "name": "python3"
  },
  "language_info": {
   "codemirror_mode": {
    "name": "ipython",
    "version": 3
   },
   "file_extension": ".py",
   "mimetype": "text/x-python",
   "name": "python",
   "nbconvert_exporter": "python",
   "pygments_lexer": "ipython3",
   "version": "3.9.7"
  }
 },
 "nbformat": 4,
 "nbformat_minor": 5
}
