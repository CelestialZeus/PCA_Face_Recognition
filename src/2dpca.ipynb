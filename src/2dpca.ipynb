{
 "cells": [
  {
   "cell_type": "code",
   "execution_count": 1,
   "id": "28170bb7",
   "metadata": {},
   "outputs": [],
   "source": [
    "import numpy as np\n",
    "import timeit\n",
    "from ipynb.fs.full.utils import get_faces, get_person_num, show_sample_faces, split_train_test, get_stats"
   ]
  },
  {
   "cell_type": "code",
   "execution_count": 2,
   "id": "d66334a5",
   "metadata": {},
   "outputs": [],
   "source": [
    "faces = get_faces(zipfile_path=\"./Grp13Dataset.zip\")\n",
    "# show_sample_faces(faces=faces)"
   ]
  },
  {
   "cell_type": "code",
   "execution_count": 3,
   "id": "1a65db39",
   "metadata": {},
   "outputs": [
    {
     "name": "stdout",
     "output_type": "stream",
     "text": [
      "Face image shape: (80, 70)\n"
     ]
    }
   ],
   "source": [
    "faceshape = list(faces.values())[0].shape\n",
    "print(\"Face image shape:\", faceshape)\n",
    "img_height, img_width = faceshape"
   ]
  },
  {
   "cell_type": "code",
   "execution_count": 4,
   "id": "7c23ea7c",
   "metadata": {},
   "outputs": [
    {
     "name": "stdout",
     "output_type": "stream",
     "text": [
      "Number of classes: 41\n",
      "Number of images: 410\n"
     ]
    }
   ],
   "source": [
    "classes = set(filename.split(\"/\")[0] for filename in faces.keys())\n",
    "print(\"Number of classes:\", len(classes))\n",
    "print(\"Number of images:\", len(faces))"
   ]
  },
  {
   "cell_type": "code",
   "execution_count": 5,
   "id": "8d54478b",
   "metadata": {},
   "outputs": [],
   "source": [
    "training_set, testing_set = split_train_test(zipfilepath=\"./Grp13Dataset.zip\")\n"
   ]
  },
  {
   "cell_type": "code",
   "execution_count": 6,
   "id": "26b37939",
   "metadata": {},
   "outputs": [],
   "source": [
    "\n",
    "start = timeit.default_timer()"
   ]
  },
  {
   "cell_type": "code",
   "execution_count": 7,
   "id": "ddd054f1",
   "metadata": {},
   "outputs": [],
   "source": [
    "def get_matrix(training_list, img_height, img_width):\n",
    "\n",
    "    img_mat = np.zeros(\n",
    "        (len(training_list), img_height, img_width),\n",
    "        dtype=np.uint8)\n",
    "\n",
    "    i = 0\n",
    "    for img in training_list:\n",
    "        mat = np.asmatrix(training_list[img])\n",
    "        img_mat[i, :, :] = mat\n",
    "        i += 1\n",
    "    print(\"Matrix Size:\", img_mat.shape)\n",
    "    return img_mat"
   ]
  },
  {
   "cell_type": "code",
   "execution_count": 8,
   "id": "79b5f0d4",
   "metadata": {},
   "outputs": [],
   "source": [
    "# def show_eigen_face(mean_subtracted, eig_no, new_bases):\n",
    "#     ev = new_bases[:, eig_no:eig_no + 1]\n",
    "#     print(new_bases.shape)\n",
    "#     print((mean_subtracted[0]@new_bases).shape)\n",
    "#     print(ev.shape)\n",
    "#     cv2.imshow(\"Eigen Face \" + str(eig_no),  cv2.resize(np.array((80,50), dtype = np.uint8),(200, 200)))\n",
    "#     cv2.waitKey()\n"
   ]
  },
  {
   "cell_type": "code",
   "execution_count": 9,
   "id": "f02759c8",
   "metadata": {},
   "outputs": [
    {
     "name": "stdout",
     "output_type": "stream",
     "text": [
      "Matrix Size: (328, 80, 70)\n"
     ]
    }
   ],
   "source": [
    "facematrix = get_matrix(training_set, img_height, img_width)\n",
    "no_of_images = facematrix.shape[0]\n"
   ]
  },
  {
   "cell_type": "code",
   "execution_count": 10,
   "id": "0ff70ffa",
   "metadata": {},
   "outputs": [],
   "source": [
    "# eqn 5\n",
    "mean_face = np.mean(facematrix, 0)\n"
   ]
  },
  {
   "cell_type": "code",
   "execution_count": null,
   "id": "8a6d9877",
   "metadata": {},
   "outputs": [],
   "source": []
  }
 ],
 "metadata": {
  "kernelspec": {
   "display_name": "Python 3 (ipykernel)",
   "language": "python",
   "name": "python3"
  },
  "language_info": {
   "codemirror_mode": {
    "name": "ipython",
    "version": 3
   },
   "file_extension": ".py",
   "mimetype": "text/x-python",
   "name": "python",
   "nbconvert_exporter": "python",
   "pygments_lexer": "ipython3",
   "version": "3.9.7"
  }
 },
 "nbformat": 4,
 "nbformat_minor": 5
}
