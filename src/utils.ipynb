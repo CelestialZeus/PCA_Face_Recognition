{
 "cells": [
  {
   "cell_type": "code",
   "execution_count": 1,
   "id": "853a776b",
   "metadata": {},
   "outputs": [],
   "source": [
    "import zipfile\n",
    "import cv2\n",
    "import numpy as np\n",
    "import matplotlib.pyplot as plt"
   ]
  },
  {
   "cell_type": "code",
   "execution_count": 1,
   "id": "58048a42",
   "metadata": {},
   "outputs": [],
   "source": [
    "def get_faces(zipfile_path):\n",
    "    faces = {}\n",
    "    with zipfile.ZipFile(zipfile_path) as facezip:\n",
    "        for filename in facezip.namelist():\n",
    "            if not filename.endswith(\".jpg\"):\n",
    "                continue\n",
    "            with facezip.open(filename) as image:\n",
    "                faces[filename] = cv2.imdecode(np.frombuffer(image.read(), np.uint8), cv2.IMREAD_GRAYSCALE)\n",
    "    return faces"
   ]
  },
  {
   "cell_type": "code",
   "execution_count": 3,
   "id": "5f793235",
   "metadata": {},
   "outputs": [],
   "source": [
    "def show_sample_faces(faces):\n",
    "    fig, axes = plt.subplots(4, 4, sharex=True, sharey=True, figsize=(8, 10))\n",
    "    faceimages = list(faces.values())[-16:]\n",
    "    for i in range(16):\n",
    "        axes[i % 4][i//4].imshow(faceimages[i], cmap=\"gray\")\n",
    "    print(\"Showing sample faces\")\n",
    "    plt.show()\n"
   ]
  },
  {
   "cell_type": "code",
   "execution_count": 4,
   "id": "5f97e636",
   "metadata": {},
   "outputs": [],
   "source": [
    "def get_person_num(filename):\n",
    "    filename = filename.replace(\"Grp13Person\", \"\").split(\"/\")\n",
    "    person_num = int(filename[0])\n",
    "    img_num = int(filename[1].split(\"_\")[0]) % 10\n",
    "    return (person_num, img_num)"
   ]
  },
  {
   "cell_type": "code",
   "execution_count": 5,
   "id": "2e21a893",
   "metadata": {},
   "outputs": [],
   "source": [
    "def split_train_test(zipfilepath):\n",
    "    training_set = {}\n",
    "    testing_set = {}\n",
    "    with zipfile.ZipFile(zipfilepath) as facezip:\n",
    "        for filename in facezip.namelist():\n",
    "            if not filename.endswith(\".jpg\"):\n",
    "                continue\n",
    "\n",
    "            person_num, img_num = get_person_num(filename=filename)\n",
    "\n",
    "            # every 0th and 1st pic per person is sent to training set\n",
    "            if img_num == 0 or img_num == 1:\n",
    "                with facezip.open(filename) as image:\n",
    "\n",
    "                    testing_set[filename] = cv2.imdecode(np.frombuffer(\n",
    "                        image.read(), np.uint8), cv2.IMREAD_GRAYSCALE)\n",
    "            else:\n",
    "\n",
    "                with facezip.open(filename) as image:\n",
    "                    training_set[filename] = cv2.imdecode(np.frombuffer(\n",
    "                        image.read(), np.uint8), cv2.IMREAD_GRAYSCALE)\n",
    "\n",
    "    return training_set, testing_set"
   ]
  },
  {
   "cell_type": "code",
   "execution_count": 6,
   "id": "152368bb",
   "metadata": {},
   "outputs": [],
   "source": [
    "def get_stats(correct_pred,wrong_pred,total_pred):\n",
    "\n",
    "    #Correct_Predic = round(correct_pred/total_pred,3)\n",
    "    #Wrong_Predic =  round(wrong_pred/total_pred,3)\n",
    "    Accuracy = round((correct_pred*100)/total_pred,3)\n",
    "    return Accuracy"
   ]
  },
  {
   "cell_type": "code",
   "execution_count": null,
   "id": "1a3aab2f",
   "metadata": {},
   "outputs": [],
   "source": []
  }
 ],
 "metadata": {
  "kernelspec": {
   "display_name": "Python 3 (ipykernel)",
   "language": "python",
   "name": "python3"
  },
  "language_info": {
   "codemirror_mode": {
    "name": "ipython",
    "version": 3
   },
   "file_extension": ".py",
   "mimetype": "text/x-python",
   "name": "python",
   "nbconvert_exporter": "python",
   "pygments_lexer": "ipython3",
   "version": "3.9.7"
  }
 },
 "nbformat": 4,
 "nbformat_minor": 5
}
