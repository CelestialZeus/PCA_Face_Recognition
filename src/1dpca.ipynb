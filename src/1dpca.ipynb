{
  "cells": [
    {
      "cell_type": "code",
      "execution_count": null,
      "id": "5862d405",
      "metadata": {
        "id": "V3hR_b-L7OT1"
      },
      "outputs": [],
      "source": [
        "import numpy as np\n",
        "import matplotlib.pyplot as plt\n",
        "from sklearn.decomposition import PCA\n",
        "import timeit\n",
        "from ipynb.fs.full.utils import get_faces, get_person_num, show_sample_faces, split_train_test,get_stats"
      ]
    },
    {
      "cell_type": "code",
      "execution_count": null,
      "id": "76de46a3",
      "metadata": {
        "id": "dGXOUiAe8Pcl"
      },
      "outputs": [],
      "source": [
        "faces = get_faces(zipfile_path=\"./Grp13Dataset.zip\")\n",
        "show_sample_faces(faces=faces)"
      ]
    },
    {
      "cell_type": "code",
      "execution_count": null,
      "id": "904f7ac2",
      "metadata": {
        "id": "tjP8Axm-8S_0"
      },
      "outputs": [],
      "source": [
        "faceshape = list(faces.values())[0].shape\n",
        "print(\"Face image shape:\", faceshape)"
      ]
    },
    {
      "cell_type": "code",
      "execution_count": null,
      "id": "607d380b",
      "metadata": {
        "id": "o8wHXxdE8WV3"
      },
      "outputs": [],
      "source": [
        "classes = set(filename.split(\"/\")[0] for filename in faces.keys())\n",
        "print(\"Number of classes:\", len(classes))\n",
        "print(\"Number of images:\", len(faces))"
      ]
    },
    {
      "cell_type": "code",
      "execution_count": 1,
      "id": "54196ff3",
      "metadata": {
        "colab": {
          "base_uri": "https://localhost:8080/",
          "height": 130
        },
        "id": "TkndqjpS8bXC",
        "outputId": "f0418578-e90a-4194-f8c2-d8a2bb098d89"
      },
      "outputs": [
        {
          "ename": "IndentationError",
          "evalue": "ignored",
          "output_type": "error",
          "traceback": [
            "\u001b[0;36m  File \u001b[0;32m\"<ipython-input-1-acc52cb0a4d1>\"\u001b[0;36m, line \u001b[0;32m19\u001b[0m\n\u001b[0;31m    if(i<len(eigenfaces)):\u001b[0m\n\u001b[0m    ^\u001b[0m\n\u001b[0;31mIndentationError\u001b[0m\u001b[0;31m:\u001b[0m unexpected indent\n"
          ]
        }
      ],
      "source": [
        "facematrix = []\n",
        "facelabel = []\n",
        "n_components = int(input(\"Enter the number of components :\"))\n",
        "start = timeit.default_timer()\n",
        "training_set, testing_set = split_train_test(zipfilepath=\"./Grp13Dataset.zip\")\n",
        "\n",
        "for key, val in training_set.items():\n",
        "    # fig 1\n",
        "    facematrix.append(val.flatten())\n",
        "    facelabel.append(key.split(\"/\")[0])\n",
        "\n",
        "facematrix = np.array(facematrix)\n",
        "pca = PCA().fit(facematrix)\n",
        "\n",
        "eigenfaces = pca.components_[:n_components]\n",
        "\n",
        "#fig, axes = plt.subplots(4, 4, sharex=True, sharey=True, figsize=(8, 10))\n",
        "#for i in range(16):\n",
        "#    if(i<len(eigenfaces)):\n",
        "#        break\n",
        "#    axes[i % 4][i//4].imshow(eigenfaces[i].reshape(faceshape), cmap=\"gray\")\n",
        "#print(\"Showing the eigenfaces\")\n",
        "#plt.show()\n",
        "\n",
        "\n",
        "# eqn 4\n",
        "weights = eigenfaces @ (facematrix - pca.mean_).T\n",
        "print(\"Shape of the weight matrix:\", weights.shape)\n",
        "\n",
        "\n",
        "def get_best_match(filename):\n",
        "    query = faces[filename].reshape(1, -1)\n",
        "    # eqn 22\n",
        "    query_weight = eigenfaces @ (query - pca.mean_).T\n",
        "    euclidean_distance = np.linalg.norm(weights - query_weight, axis=0)\n",
        "    best_match = np.argmin(euclidean_distance)\n",
        "    #print(\"Best match %s with Euclidean distance %f\" %  (facelabel[best_match], euclidean_distance[best_match]))\n",
        "\n",
        "    fig, axes = plt.subplots(1, 2, sharex=True, sharey=True, figsize=(8, 6))\n",
        "    person_num, img_num = get_person_num(filename=filename)\n",
        "\n",
        "    axes[0].imshow(query.reshape(faceshape), cmap=\"gray\")\n",
        "    axes[0].set_title(\"Query - Person \" + str(person_num))\n",
        "    axes[1].imshow(facematrix[best_match].reshape(faceshape), cmap=\"gray\")\n",
        "    axes[1].set_title(\"Best match - Person \" + str((best_match//8) + 1))\n",
        "    #plt.show()\n",
        "    # uncomment the above line to see individual results of testing faces\n",
        "    return (((best_match//8) + 1), person_num)\n",
        "\n",
        "stop = timeit.default_timer()\n",
        "\n"
      ]
    },
    {
      "cell_type": "code",
      "execution_count": null,
      "id": "1916081e",
      "metadata": {
        "id": "vPit0CCq8_tq"
      },
      "outputs": [],
      "source": [
        "correct_pred = 0\n",
        "wrong_pred = 0\n",
        "total_pred=0\n",
        "for key, val in testing_set.items():       \n",
        "    predicted, actual = get_best_match(filename=key)\n",
        "    total_pred += 1\n",
        "    if predicted == actual:\n",
        "        correct_pred += 1\n",
        "    else:\n",
        "        wrong_pred += 1"
      ]
    },
    {
      "cell_type": "code",
      "execution_count": null,
      "id": "d2daddf0",
      "metadata": {
        "id": "CmL_OjN69IHl"
      },
      "outputs": [],
      "source": [
        "Accuracy = get_stats(correct_pred,wrong_pred,total_pred)\n",
        "print(f\"Correct prediction: \",correct_pred,\"/\",total_pred)\n",
        "print(f\"Wrong prediction: \",wrong_pred,\"/\",total_pred)\n",
        "print(f\"Accuracy: \",Accuracy,\"%\")\n",
        "print(f\"Time Taken: \",round(stop-start,3),\"s\")"
      ]
    }
  ],
  "metadata": {
    "colab": {
      "name": "1dpca.ipynb",
      "provenance": []
    },
    "kernelspec": {
      "display_name": "Python 3",
      "name": "python3"
    },
    "language_info": {
      "name": "python",
      "version": "3.8.3"
    }
  },
  "nbformat": 4,
  "nbformat_minor": 0
}
